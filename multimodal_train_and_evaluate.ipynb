{
 "cells": [
  {
   "metadata": {
    "ExecuteTime": {
     "end_time": "2025-04-18T15:20:09.152194Z",
     "start_time": "2025-04-18T15:20:09.095179Z"
    }
   },
   "cell_type": "code",
   "source": [
    "#auto reload jupyter to update notebook w.r.t changes in other linked files:\n",
    "%load_ext autoreload\n",
    "%autoreload 2"
   ],
   "id": "237aafff1d2b17c1",
   "outputs": [
    {
     "name": "stdout",
     "output_type": "stream",
     "text": [
      "The autoreload extension is already loaded. To reload it, use:\n",
      "  %reload_ext autoreload\n"
     ]
    }
   ],
   "execution_count": 56
  },
  {
   "metadata": {
    "ExecuteTime": {
     "end_time": "2025-04-18T15:20:10.613476Z",
     "start_time": "2025-04-18T15:20:10.559026Z"
    }
   },
   "cell_type": "code",
   "source": [
    "import torch\n",
    "from torch.utils.data import DataLoader, TensorDataset\n",
    "from sklearn.model_selection import train_test_split\n",
    "import torch.nn as nn\n",
    "import torch.optim as optim\n",
    "#from xgboost.testing import root_mean_square\n",
    "\n",
    "from train_and_evaluate import load_train_test_data\n",
    "\n",
    "from torch.optim.lr_scheduler import ReduceLROnPlateau\n",
    "import matplotlib.pyplot as plt\n",
    "\n",
    "from sklearn.metrics import mean_squared_error, mean_absolute_error, r2_score\n",
    "import numpy as np"
   ],
   "id": "566940c48a21383a",
   "outputs": [],
   "execution_count": 57
  },
  {
   "cell_type": "code",
   "id": "initial_id",
   "metadata": {
    "collapsed": true,
    "ExecuteTime": {
     "end_time": "2025-04-18T15:20:16.071207Z",
     "start_time": "2025-04-18T15:20:12.583168Z"
    }
   },
   "source": [
    "#Define the predictand\n",
    "predictand = 'both'\n",
    "df_train, df_test, X_train, y_train, X_test, y_test, predictors, predictands = load_train_test_data(predictand=predictand)\n",
    "print(f\"X_train shape: {X_train.shape}, y_train shape: {y_train.shape}\")\n",
    "\n",
    "# Convert pandas DataFrames to PyTorch tensors\n",
    "X_train_tensor = torch.tensor(X_train.values, dtype=torch.float32)\n",
    "y_train_tensor = torch.tensor(y_train.values, dtype=torch.float32)\n",
    "X_test_tensor = torch.tensor(X_test.values, dtype=torch.float32)\n",
    "y_test_tensor = torch.tensor(y_test.values, dtype=torch.float32)\n",
    "\n",
    "# Create datasets and dataloaders\n",
    "train_dataset = TensorDataset(X_train_tensor, y_train_tensor)\n",
    "test_dataset = TensorDataset(X_test_tensor, y_test_tensor)\n",
    "\n",
    "batch_size = 32\n",
    "train_loader = DataLoader(train_dataset, batch_size=batch_size, shuffle=True)\n",
    "test_loader = DataLoader(test_dataset, batch_size=batch_size)\n",
    "\n",
    "print(f'train_loader: {train_loader} \\n test_loader: {test_loader}' )\n",
    "print(f'size of train_loader: {len(train_loader)} \\n size of test_loader: {len(test_loader)}')"
   ],
   "outputs": [
    {
     "name": "stdout",
     "output_type": "stream",
     "text": [
      "Train and test data loaded successfully! Missing values dropped.\n",
      "X_train shape: (211871, 25), y_train shape: (211871, 2)\n",
      "train_loader: <torch.utils.data.dataloader.DataLoader object at 0x7991a7f97d10> \n",
      " test_loader: <torch.utils.data.dataloader.DataLoader object at 0x7991a7dd7c10>\n",
      "size of train_loader: 6621 \n",
      " size of test_loader: 1438\n"
     ]
    }
   ],
   "execution_count": 58
  },
  {
   "metadata": {},
   "cell_type": "markdown",
   "source": "Neural Network Architecture",
   "id": "d88511ecfee38825"
  },
  {
   "metadata": {
    "ExecuteTime": {
     "end_time": "2025-04-18T15:20:28.590977Z",
     "start_time": "2025-04-18T15:20:28.539628Z"
    }
   },
   "cell_type": "code",
   "source": [
    "class MultiTargetRegressor(nn.Module):\n",
    "    \"\"\"Neural network for multi-target regression\"\"\"\n",
    "    def __init__(self, input_size, output_size):\n",
    "        super().__init__()\n",
    "        self.layers = nn.Sequential(\n",
    "            # Input layer to first hidden layer\n",
    "            nn.Linear(input_size, 16),\n",
    "            nn.ReLU(),\n",
    "\n",
    "            # First hidden layer to second hidden layer\n",
    "            nn.Linear(16, 10),\n",
    "            nn.ReLU(),\n",
    "\n",
    "            # Second hidden layer to output layer\n",
    "            nn.Linear(10, output_size)\n",
    "        )\n",
    "\n",
    "        # Initialize weights using Kaiming He initialization for ReLU\n",
    "        for layer in self.layers:\n",
    "            if isinstance(layer, nn.Linear):\n",
    "                nn.init.kaiming_normal_(layer.weight, mode='fan_in', nonlinearity='relu')\n",
    "\n",
    "    def forward(self, x):\n",
    "        \"\"\"Defines forward pass through network\"\"\"\n",
    "        return self.layers(x)"
   ],
   "id": "35a96a4f455b96e8",
   "outputs": [],
   "execution_count": 60
  },
  {
   "metadata": {
    "ExecuteTime": {
     "end_time": "2025-04-18T15:20:32.442023Z",
     "start_time": "2025-04-18T15:20:32.396939Z"
    }
   },
   "cell_type": "code",
   "source": [
    "def print_model_structure(model, input_size, output_size):\n",
    "    neuron_counts = [input_size]  # Start with input size\n",
    "    linear_layers = []\n",
    "\n",
    "    # Collect neuron counts for each nn.Linear layer\n",
    "    for layer in model.layers:\n",
    "        if isinstance(layer, nn.Linear):\n",
    "            neuron_counts.append(layer.out_features)\n",
    "            linear_layers.append(layer)\n",
    "\n",
    "    # Print neurons per layer\n",
    "    print(\"Model Structure:\")\n",
    "    print(f\"Input layer: {neuron_counts[0]} neurons\")\n",
    "    for i, n in enumerate(neuron_counts[1:-1], 1):\n",
    "        print(f\"Hidden layer {i}: {n} neurons\")\n",
    "    print(f\"Output layer: {neuron_counts[-1]} neurons\")\n",
    "\n",
    "    # Print total neurons (excluding input layer if you want only trainable neurons)\n",
    "    total_neurons = sum(neuron_counts)\n",
    "    print(f\"\\nTotal number of neurons (including input and output): {total_neurons}\")\n",
    "\n",
    "    # Print number of layers\n",
    "    print(f\"Number of layers (Linear): {len(linear_layers)}\")\n",
    "    print(f\"Number of hidden layers: {len(linear_layers) - 1}\")\n",
    "\n",
    "# Example usage:\n",
    "input_size = X_train.shape[1]\n",
    "output_size = y_train.shape[1]\n",
    "model = MultiTargetRegressor(input_size, output_size)\n",
    "print_model_structure(model, input_size, output_size)\n"
   ],
   "id": "46db43ce6555fda3",
   "outputs": [
    {
     "name": "stdout",
     "output_type": "stream",
     "text": [
      "Model Structure:\n",
      "Input layer: 25 neurons\n",
      "Hidden layer 1: 16 neurons\n",
      "Hidden layer 2: 10 neurons\n",
      "Output layer: 2 neurons\n",
      "\n",
      "Total number of neurons (including input and output): 53\n",
      "Number of layers (Linear): 3\n",
      "Number of hidden layers: 2\n"
     ]
    }
   ],
   "execution_count": 61
  },
  {
   "metadata": {
    "ExecuteTime": {
     "end_time": "2025-04-18T09:39:31.595221Z",
     "start_time": "2025-04-18T09:39:31.529726Z"
    }
   },
   "cell_type": "code",
   "source": [
    "# Install torchviz if not already installed\n",
    "# !pip install torchviz\n",
    "\n",
    "from torchviz import make_dot\n",
    "import torch\n",
    "\n",
    "def visualize_model(model, input_size):\n",
    "    # Create a dummy input tensor with the correct shape\n",
    "    x = torch.randn(1, input_size, requires_grad=True)\n",
    "    y = model(x)\n",
    "    # Create a visualization of the computation graph\n",
    "    dot = make_dot(y, params=dict(model.named_parameters()))\n",
    "    return dot\n",
    "\n",
    "\n",
    "input_size = X_train.shape[1]\n",
    "output_size = y_train.shape[1]\n",
    "model = MultiTargetRegressor(input_size, output_size)\n",
    "\n",
    "# Example usage:\n",
    "dot = visualize_model(model, input_size)\n",
    "#dot.render(\"model_architecture\", format=\"png\")  # Saves to file\n",
    "dot  # Display in Jupyter notebook\n"
   ],
   "id": "5429251d06e4a232",
   "outputs": [
    {
     "data": {
      "image/svg+xml": "<?xml version=\"1.0\" encoding=\"UTF-8\" standalone=\"no\"?>\n<!DOCTYPE svg PUBLIC \"-//W3C//DTD SVG 1.1//EN\"\n \"http://www.w3.org/Graphics/SVG/1.1/DTD/svg11.dtd\">\n<!-- Generated by graphviz version 2.43.0 (0)\n -->\n<!-- Title: %3 Pages: 1 -->\n<svg width=\"494pt\" height=\"546pt\"\n viewBox=\"0.00 0.00 494.00 546.00\" xmlns=\"http://www.w3.org/2000/svg\" xmlns:xlink=\"http://www.w3.org/1999/xlink\">\n<g id=\"graph0\" class=\"graph\" transform=\"scale(1 1) rotate(0) translate(4 542)\">\n<title>%3</title>\n<polygon fill=\"white\" stroke=\"transparent\" points=\"-4,4 -4,-542 490,-542 490,4 -4,4\"/>\n<!-- 133666178879504 -->\n<g id=\"node1\" class=\"node\">\n<title>133666178879504</title>\n<polygon fill=\"#caff70\" stroke=\"black\" points=\"272,-31 213,-31 213,0 272,0 272,-31\"/>\n<text text-anchor=\"middle\" x=\"242.5\" y=\"-7\" font-family=\"monospace\" font-size=\"10.00\"> (1, 2)</text>\n</g>\n<!-- 133666164560112 -->\n<g id=\"node2\" class=\"node\">\n<title>133666164560112</title>\n<polygon fill=\"lightgrey\" stroke=\"black\" points=\"293,-86 192,-86 192,-67 293,-67 293,-86\"/>\n<text text-anchor=\"middle\" x=\"242.5\" y=\"-74\" font-family=\"monospace\" font-size=\"10.00\">AddmmBackward0</text>\n</g>\n<!-- 133666164560112&#45;&gt;133666178879504 -->\n<g id=\"edge22\" class=\"edge\">\n<title>133666164560112&#45;&gt;133666178879504</title>\n<path fill=\"none\" stroke=\"black\" d=\"M242.5,-66.79C242.5,-60.07 242.5,-50.4 242.5,-41.34\"/>\n<polygon fill=\"black\" stroke=\"black\" points=\"246,-41.19 242.5,-31.19 239,-41.19 246,-41.19\"/>\n</g>\n<!-- 133666209494880 -->\n<g id=\"node3\" class=\"node\">\n<title>133666209494880</title>\n<polygon fill=\"lightgrey\" stroke=\"black\" points=\"177,-141 76,-141 76,-122 177,-122 177,-141\"/>\n<text text-anchor=\"middle\" x=\"126.5\" y=\"-129\" font-family=\"monospace\" font-size=\"10.00\">AccumulateGrad</text>\n</g>\n<!-- 133666209494880&#45;&gt;133666164560112 -->\n<g id=\"edge1\" class=\"edge\">\n<title>133666209494880&#45;&gt;133666164560112</title>\n<path fill=\"none\" stroke=\"black\" d=\"M145.14,-121.98C163.8,-113.46 192.75,-100.23 214.24,-90.41\"/>\n<polygon fill=\"black\" stroke=\"black\" points=\"215.88,-93.51 223.52,-86.17 212.97,-87.14 215.88,-93.51\"/>\n</g>\n<!-- 133666585709552 -->\n<g id=\"node4\" class=\"node\">\n<title>133666585709552</title>\n<polygon fill=\"lightblue\" stroke=\"black\" points=\"174,-207 79,-207 79,-177 174,-177 174,-207\"/>\n<text text-anchor=\"middle\" x=\"126.5\" y=\"-195\" font-family=\"monospace\" font-size=\"10.00\">layers.4.bias</text>\n<text text-anchor=\"middle\" x=\"126.5\" y=\"-184\" font-family=\"monospace\" font-size=\"10.00\"> (2)</text>\n</g>\n<!-- 133666585709552&#45;&gt;133666209494880 -->\n<g id=\"edge2\" class=\"edge\">\n<title>133666585709552&#45;&gt;133666209494880</title>\n<path fill=\"none\" stroke=\"black\" d=\"M126.5,-176.84C126.5,-169.21 126.5,-159.7 126.5,-151.45\"/>\n<polygon fill=\"black\" stroke=\"black\" points=\"130,-151.27 126.5,-141.27 123,-151.27 130,-151.27\"/>\n</g>\n<!-- 133666209496704 -->\n<g id=\"node5\" class=\"node\">\n<title>133666209496704</title>\n<polygon fill=\"lightgrey\" stroke=\"black\" points=\"290,-141 195,-141 195,-122 290,-122 290,-141\"/>\n<text text-anchor=\"middle\" x=\"242.5\" y=\"-129\" font-family=\"monospace\" font-size=\"10.00\">ReluBackward0</text>\n</g>\n<!-- 133666209496704&#45;&gt;133666164560112 -->\n<g id=\"edge3\" class=\"edge\">\n<title>133666209496704&#45;&gt;133666164560112</title>\n<path fill=\"none\" stroke=\"black\" d=\"M242.5,-121.75C242.5,-114.8 242.5,-104.85 242.5,-96.13\"/>\n<polygon fill=\"black\" stroke=\"black\" points=\"246,-96.09 242.5,-86.09 239,-96.09 246,-96.09\"/>\n</g>\n<!-- 133666209493392 -->\n<g id=\"node6\" class=\"node\">\n<title>133666209493392</title>\n<polygon fill=\"lightgrey\" stroke=\"black\" points=\"293,-201.5 192,-201.5 192,-182.5 293,-182.5 293,-201.5\"/>\n<text text-anchor=\"middle\" x=\"242.5\" y=\"-189.5\" font-family=\"monospace\" font-size=\"10.00\">AddmmBackward0</text>\n</g>\n<!-- 133666209493392&#45;&gt;133666209496704 -->\n<g id=\"edge4\" class=\"edge\">\n<title>133666209493392&#45;&gt;133666209496704</title>\n<path fill=\"none\" stroke=\"black\" d=\"M242.5,-182.37C242.5,-174.25 242.5,-161.81 242.5,-151.39\"/>\n<polygon fill=\"black\" stroke=\"black\" points=\"246,-151.17 242.5,-141.17 239,-151.17 246,-151.17\"/>\n</g>\n<!-- 133666209493008 -->\n<g id=\"node7\" class=\"node\">\n<title>133666209493008</title>\n<polygon fill=\"lightgrey\" stroke=\"black\" points=\"153,-267.5 52,-267.5 52,-248.5 153,-248.5 153,-267.5\"/>\n<text text-anchor=\"middle\" x=\"102.5\" y=\"-255.5\" font-family=\"monospace\" font-size=\"10.00\">AccumulateGrad</text>\n</g>\n<!-- 133666209493008&#45;&gt;133666209493392 -->\n<g id=\"edge5\" class=\"edge\">\n<title>133666209493008&#45;&gt;133666209493392</title>\n<path fill=\"none\" stroke=\"black\" d=\"M121.38,-248.37C145.28,-237.44 186.67,-218.52 214.32,-205.88\"/>\n<polygon fill=\"black\" stroke=\"black\" points=\"215.83,-209.04 223.47,-201.7 212.92,-202.67 215.83,-209.04\"/>\n</g>\n<!-- 133666585708880 -->\n<g id=\"node8\" class=\"node\">\n<title>133666585708880</title>\n<polygon fill=\"lightblue\" stroke=\"black\" points=\"150,-339 55,-339 55,-309 150,-309 150,-339\"/>\n<text text-anchor=\"middle\" x=\"102.5\" y=\"-327\" font-family=\"monospace\" font-size=\"10.00\">layers.2.bias</text>\n<text text-anchor=\"middle\" x=\"102.5\" y=\"-316\" font-family=\"monospace\" font-size=\"10.00\"> (64)</text>\n</g>\n<!-- 133666585708880&#45;&gt;133666209493008 -->\n<g id=\"edge6\" class=\"edge\">\n<title>133666585708880&#45;&gt;133666209493008</title>\n<path fill=\"none\" stroke=\"black\" d=\"M102.5,-308.8C102.5,-299.7 102.5,-287.79 102.5,-277.9\"/>\n<polygon fill=\"black\" stroke=\"black\" points=\"106,-277.84 102.5,-267.84 99,-277.84 106,-277.84\"/>\n</g>\n<!-- 133666209495888 -->\n<g id=\"node9\" class=\"node\">\n<title>133666209495888</title>\n<polygon fill=\"lightgrey\" stroke=\"black\" points=\"266,-267.5 171,-267.5 171,-248.5 266,-248.5 266,-267.5\"/>\n<text text-anchor=\"middle\" x=\"218.5\" y=\"-255.5\" font-family=\"monospace\" font-size=\"10.00\">ReluBackward0</text>\n</g>\n<!-- 133666209495888&#45;&gt;133666209493392 -->\n<g id=\"edge7\" class=\"edge\">\n<title>133666209495888&#45;&gt;133666209493392</title>\n<path fill=\"none\" stroke=\"black\" d=\"M221.74,-248.37C225.26,-238.97 231,-223.67 235.55,-211.53\"/>\n<polygon fill=\"black\" stroke=\"black\" points=\"238.93,-212.5 239.16,-201.91 232.37,-210.04 238.93,-212.5\"/>\n</g>\n<!-- 133666165292288 -->\n<g id=\"node10\" class=\"node\">\n<title>133666165292288</title>\n<polygon fill=\"lightgrey\" stroke=\"black\" points=\"269,-333.5 168,-333.5 168,-314.5 269,-314.5 269,-333.5\"/>\n<text text-anchor=\"middle\" x=\"218.5\" y=\"-321.5\" font-family=\"monospace\" font-size=\"10.00\">AddmmBackward0</text>\n</g>\n<!-- 133666165292288&#45;&gt;133666209495888 -->\n<g id=\"edge8\" class=\"edge\">\n<title>133666165292288&#45;&gt;133666209495888</title>\n<path fill=\"none\" stroke=\"black\" d=\"M218.5,-314.37C218.5,-305.16 218.5,-290.29 218.5,-278.27\"/>\n<polygon fill=\"black\" stroke=\"black\" points=\"222,-277.91 218.5,-267.91 215,-277.91 222,-277.91\"/>\n</g>\n<!-- 133666165291376 -->\n<g id=\"node11\" class=\"node\">\n<title>133666165291376</title>\n<polygon fill=\"lightgrey\" stroke=\"black\" points=\"101,-399.5 0,-399.5 0,-380.5 101,-380.5 101,-399.5\"/>\n<text text-anchor=\"middle\" x=\"50.5\" y=\"-387.5\" font-family=\"monospace\" font-size=\"10.00\">AccumulateGrad</text>\n</g>\n<!-- 133666165291376&#45;&gt;133666165292288 -->\n<g id=\"edge9\" class=\"edge\">\n<title>133666165291376&#45;&gt;133666165292288</title>\n<path fill=\"none\" stroke=\"black\" d=\"M73.16,-380.37C102.3,-369.27 153.09,-349.92 186.25,-337.28\"/>\n<polygon fill=\"black\" stroke=\"black\" points=\"187.84,-340.43 195.93,-333.6 185.34,-333.89 187.84,-340.43\"/>\n</g>\n<!-- 133666585716272 -->\n<g id=\"node12\" class=\"node\">\n<title>133666585716272</title>\n<polygon fill=\"lightblue\" stroke=\"black\" points=\"98,-471.5 3,-471.5 3,-441.5 98,-441.5 98,-471.5\"/>\n<text text-anchor=\"middle\" x=\"50.5\" y=\"-459.5\" font-family=\"monospace\" font-size=\"10.00\">layers.0.bias</text>\n<text text-anchor=\"middle\" x=\"50.5\" y=\"-448.5\" font-family=\"monospace\" font-size=\"10.00\"> (128)</text>\n</g>\n<!-- 133666585716272&#45;&gt;133666165291376 -->\n<g id=\"edge10\" class=\"edge\">\n<title>133666585716272&#45;&gt;133666165291376</title>\n<path fill=\"none\" stroke=\"black\" d=\"M50.5,-441.19C50.5,-431.91 50.5,-419.73 50.5,-409.69\"/>\n<polygon fill=\"black\" stroke=\"black\" points=\"54,-409.54 50.5,-399.54 47,-409.54 54,-409.54\"/>\n</g>\n<!-- 133666165286528 -->\n<g id=\"node13\" class=\"node\">\n<title>133666165286528</title>\n<polygon fill=\"lightgrey\" stroke=\"black\" points=\"220,-399.5 119,-399.5 119,-380.5 220,-380.5 220,-399.5\"/>\n<text text-anchor=\"middle\" x=\"169.5\" y=\"-387.5\" font-family=\"monospace\" font-size=\"10.00\">AccumulateGrad</text>\n</g>\n<!-- 133666165286528&#45;&gt;133666165292288 -->\n<g id=\"edge11\" class=\"edge\">\n<title>133666165286528&#45;&gt;133666165292288</title>\n<path fill=\"none\" stroke=\"black\" d=\"M176.11,-380.37C183.59,-370.59 195.97,-354.42 205.43,-342.08\"/>\n<polygon fill=\"black\" stroke=\"black\" points=\"208.38,-343.97 211.68,-333.91 202.82,-339.72 208.38,-343.97\"/>\n</g>\n<!-- 133666178876144 -->\n<g id=\"node14\" class=\"node\">\n<title>133666178876144</title>\n<polygon fill=\"lightblue\" stroke=\"black\" points=\"202,-472 137,-472 137,-441 202,-441 202,-472\"/>\n<text text-anchor=\"middle\" x=\"169.5\" y=\"-448\" font-family=\"monospace\" font-size=\"10.00\"> (1, 25)</text>\n</g>\n<!-- 133666178876144&#45;&gt;133666165286528 -->\n<g id=\"edge12\" class=\"edge\">\n<title>133666178876144&#45;&gt;133666165286528</title>\n<path fill=\"none\" stroke=\"black\" d=\"M169.5,-440.86C169.5,-431.68 169.5,-419.75 169.5,-409.86\"/>\n<polygon fill=\"black\" stroke=\"black\" points=\"173,-409.82 169.5,-399.82 166,-409.82 173,-409.82\"/>\n</g>\n<!-- 133666165284512 -->\n<g id=\"node15\" class=\"node\">\n<title>133666165284512</title>\n<polygon fill=\"lightgrey\" stroke=\"black\" points=\"315,-399.5 238,-399.5 238,-380.5 315,-380.5 315,-399.5\"/>\n<text text-anchor=\"middle\" x=\"276.5\" y=\"-387.5\" font-family=\"monospace\" font-size=\"10.00\">TBackward0</text>\n</g>\n<!-- 133666165284512&#45;&gt;133666165292288 -->\n<g id=\"edge13\" class=\"edge\">\n<title>133666165284512&#45;&gt;133666165292288</title>\n<path fill=\"none\" stroke=\"black\" d=\"M268.68,-380.37C259.65,-370.4 244.59,-353.79 233.33,-341.36\"/>\n<polygon fill=\"black\" stroke=\"black\" points=\"235.88,-338.96 226.57,-333.91 230.69,-343.67 235.88,-338.96\"/>\n</g>\n<!-- 133666165284032 -->\n<g id=\"node16\" class=\"node\">\n<title>133666165284032</title>\n<polygon fill=\"lightgrey\" stroke=\"black\" points=\"327,-466 226,-466 226,-447 327,-447 327,-466\"/>\n<text text-anchor=\"middle\" x=\"276.5\" y=\"-454\" font-family=\"monospace\" font-size=\"10.00\">AccumulateGrad</text>\n</g>\n<!-- 133666165284032&#45;&gt;133666165284512 -->\n<g id=\"edge14\" class=\"edge\">\n<title>133666165284032&#45;&gt;133666165284512</title>\n<path fill=\"none\" stroke=\"black\" d=\"M276.5,-446.8C276.5,-437.32 276.5,-421.88 276.5,-409.64\"/>\n<polygon fill=\"black\" stroke=\"black\" points=\"280,-409.56 276.5,-399.56 273,-409.56 280,-409.56\"/>\n</g>\n<!-- 133666585708496 -->\n<g id=\"node17\" class=\"node\">\n<title>133666585708496</title>\n<polygon fill=\"lightblue\" stroke=\"black\" points=\"330,-538 223,-538 223,-508 330,-508 330,-538\"/>\n<text text-anchor=\"middle\" x=\"276.5\" y=\"-526\" font-family=\"monospace\" font-size=\"10.00\">layers.0.weight</text>\n<text text-anchor=\"middle\" x=\"276.5\" y=\"-515\" font-family=\"monospace\" font-size=\"10.00\"> (128, 25)</text>\n</g>\n<!-- 133666585708496&#45;&gt;133666165284032 -->\n<g id=\"edge15\" class=\"edge\">\n<title>133666585708496&#45;&gt;133666165284032</title>\n<path fill=\"none\" stroke=\"black\" d=\"M276.5,-507.69C276.5,-498.41 276.5,-486.23 276.5,-476.19\"/>\n<polygon fill=\"black\" stroke=\"black\" points=\"280,-476.04 276.5,-466.04 273,-476.04 280,-476.04\"/>\n</g>\n<!-- 133666209496848 -->\n<g id=\"node18\" class=\"node\">\n<title>133666209496848</title>\n<polygon fill=\"lightgrey\" stroke=\"black\" points=\"361,-267.5 284,-267.5 284,-248.5 361,-248.5 361,-267.5\"/>\n<text text-anchor=\"middle\" x=\"322.5\" y=\"-255.5\" font-family=\"monospace\" font-size=\"10.00\">TBackward0</text>\n</g>\n<!-- 133666209496848&#45;&gt;133666209493392 -->\n<g id=\"edge16\" class=\"edge\">\n<title>133666209496848&#45;&gt;133666209493392</title>\n<path fill=\"none\" stroke=\"black\" d=\"M311.71,-248.37C298.83,-238.06 277.06,-220.65 261.37,-208.09\"/>\n<polygon fill=\"black\" stroke=\"black\" points=\"263.37,-205.21 253.37,-201.7 259,-210.68 263.37,-205.21\"/>\n</g>\n<!-- 133666165291856 -->\n<g id=\"node19\" class=\"node\">\n<title>133666165291856</title>\n<polygon fill=\"lightgrey\" stroke=\"black\" points=\"412,-333.5 311,-333.5 311,-314.5 412,-314.5 412,-333.5\"/>\n<text text-anchor=\"middle\" x=\"361.5\" y=\"-321.5\" font-family=\"monospace\" font-size=\"10.00\">AccumulateGrad</text>\n</g>\n<!-- 133666165291856&#45;&gt;133666209496848 -->\n<g id=\"edge17\" class=\"edge\">\n<title>133666165291856&#45;&gt;133666209496848</title>\n<path fill=\"none\" stroke=\"black\" d=\"M356.24,-314.37C350.4,-304.78 340.81,-289.05 333.35,-276.8\"/>\n<polygon fill=\"black\" stroke=\"black\" points=\"336.12,-274.62 327.93,-267.91 330.14,-278.27 336.12,-274.62\"/>\n</g>\n<!-- 133666795643696 -->\n<g id=\"node20\" class=\"node\">\n<title>133666795643696</title>\n<polygon fill=\"lightblue\" stroke=\"black\" points=\"440,-405 333,-405 333,-375 440,-375 440,-405\"/>\n<text text-anchor=\"middle\" x=\"386.5\" y=\"-393\" font-family=\"monospace\" font-size=\"10.00\">layers.2.weight</text>\n<text text-anchor=\"middle\" x=\"386.5\" y=\"-382\" font-family=\"monospace\" font-size=\"10.00\"> (64, 128)</text>\n</g>\n<!-- 133666795643696&#45;&gt;133666165291856 -->\n<g id=\"edge18\" class=\"edge\">\n<title>133666795643696&#45;&gt;133666165291856</title>\n<path fill=\"none\" stroke=\"black\" d=\"M380.95,-374.8C377.32,-365.5 372.54,-353.27 368.63,-343.26\"/>\n<polygon fill=\"black\" stroke=\"black\" points=\"371.85,-341.89 364.95,-333.84 365.33,-344.43 371.85,-341.89\"/>\n</g>\n<!-- 133666209493776 -->\n<g id=\"node21\" class=\"node\">\n<title>133666209493776</title>\n<polygon fill=\"lightgrey\" stroke=\"black\" points=\"416,-141 339,-141 339,-122 416,-122 416,-141\"/>\n<text text-anchor=\"middle\" x=\"377.5\" y=\"-129\" font-family=\"monospace\" font-size=\"10.00\">TBackward0</text>\n</g>\n<!-- 133666209493776&#45;&gt;133666164560112 -->\n<g id=\"edge19\" class=\"edge\">\n<title>133666209493776&#45;&gt;133666164560112</title>\n<path fill=\"none\" stroke=\"black\" d=\"M355.81,-121.98C333.7,-113.3 299.18,-99.75 274.05,-89.88\"/>\n<polygon fill=\"black\" stroke=\"black\" points=\"275.17,-86.57 264.58,-86.17 272.61,-93.08 275.17,-86.57\"/>\n</g>\n<!-- 133666209495936 -->\n<g id=\"node22\" class=\"node\">\n<title>133666209495936</title>\n<polygon fill=\"lightgrey\" stroke=\"black\" points=\"459,-201.5 358,-201.5 358,-182.5 459,-182.5 459,-201.5\"/>\n<text text-anchor=\"middle\" x=\"408.5\" y=\"-189.5\" font-family=\"monospace\" font-size=\"10.00\">AccumulateGrad</text>\n</g>\n<!-- 133666209495936&#45;&gt;133666209493776 -->\n<g id=\"edge20\" class=\"edge\">\n<title>133666209495936&#45;&gt;133666209493776</title>\n<path fill=\"none\" stroke=\"black\" d=\"M403.93,-182.37C399.44,-173.9 392.47,-160.74 386.81,-150.07\"/>\n<polygon fill=\"black\" stroke=\"black\" points=\"389.87,-148.36 382.09,-141.17 383.68,-151.64 389.87,-148.36\"/>\n</g>\n<!-- 133666585709360 -->\n<g id=\"node23\" class=\"node\">\n<title>133666585709360</title>\n<polygon fill=\"lightblue\" stroke=\"black\" points=\"486,-273 379,-273 379,-243 486,-243 486,-273\"/>\n<text text-anchor=\"middle\" x=\"432.5\" y=\"-261\" font-family=\"monospace\" font-size=\"10.00\">layers.4.weight</text>\n<text text-anchor=\"middle\" x=\"432.5\" y=\"-250\" font-family=\"monospace\" font-size=\"10.00\"> (2, 64)</text>\n</g>\n<!-- 133666585709360&#45;&gt;133666209495936 -->\n<g id=\"edge21\" class=\"edge\">\n<title>133666585709360&#45;&gt;133666209495936</title>\n<path fill=\"none\" stroke=\"black\" d=\"M427.17,-242.8C423.69,-233.5 419.1,-221.27 415.35,-211.26\"/>\n<polygon fill=\"black\" stroke=\"black\" points=\"418.61,-209.98 411.82,-201.84 412.05,-212.44 418.61,-209.98\"/>\n</g>\n</g>\n</svg>\n",
      "text/plain": [
       "<graphviz.graphs.Digraph at 0x7991951af350>"
      ]
     },
     "execution_count": 21,
     "metadata": {},
     "output_type": "execute_result"
    }
   ],
   "execution_count": 21
  },
  {
   "metadata": {
    "ExecuteTime": {
     "end_time": "2025-04-18T09:39:40.134154Z",
     "start_time": "2025-04-18T09:39:40.122253Z"
    }
   },
   "cell_type": "code",
   "source": [
    "# If not installed, uncomment the next line:\n",
    "# !pip install torchsummary\n",
    "\n",
    "from torchsummary import summary\n",
    "\n",
    "def visualize_model_summary(model, input_size):\n",
    "    # input_size should be a tuple without batch size, e.g. (number_of_features,)\n",
    "    summary(model, input_size)\n",
    "\n",
    "\n",
    "# Example usage:\n",
    "input_size = X_train.shape[1]\n",
    "output_size = y_train.shape[1]\n",
    "model = MultiTargetRegressor(input_size, output_size)\n",
    "\n",
    "visualize_model_summary(model, input_size=(X_train.shape[1],))\n"
   ],
   "id": "b3cde278ae0feeb0",
   "outputs": [
    {
     "name": "stdout",
     "output_type": "stream",
     "text": [
      "----------------------------------------------------------------\n",
      "        Layer (type)               Output Shape         Param #\n",
      "================================================================\n",
      "            Linear-1                  [-1, 128]           3,328\n",
      "              ReLU-2                  [-1, 128]               0\n",
      "            Linear-3                   [-1, 64]           8,256\n",
      "              ReLU-4                   [-1, 64]               0\n",
      "            Linear-5                    [-1, 2]             130\n",
      "================================================================\n",
      "Total params: 11,714\n",
      "Trainable params: 11,714\n",
      "Non-trainable params: 0\n",
      "----------------------------------------------------------------\n",
      "Input size (MB): 0.00\n",
      "Forward/backward pass size (MB): 0.00\n",
      "Params size (MB): 0.04\n",
      "Estimated Total Size (MB): 0.05\n",
      "----------------------------------------------------------------\n"
     ]
    }
   ],
   "execution_count": 22
  },
  {
   "metadata": {},
   "cell_type": "markdown",
   "source": "Model Training Function:",
   "id": "a786d8c007b1e06"
  },
  {
   "metadata": {
    "ExecuteTime": {
     "end_time": "2025-04-18T14:45:32.206822Z",
     "start_time": "2025-04-18T14:45:32.194633Z"
    }
   },
   "cell_type": "code",
   "source": [
    "def train_model(model, train_loader, test_loader, num_epochs=100):\n",
    "    \"\"\"Training loop with validation monitoring\"\"\"\n",
    "    # Loss function and optimizer\n",
    "    criterion = nn.MSELoss()  # Mean Squared Error for regression\n",
    "    optimizer = optim.Adam(model.parameters(), lr=0.001)\n",
    "    scheduler = ReduceLROnPlateau(optimizer, 'min', patience=5, verbose=True)\n",
    "\n",
    "    # Track losses for visualization\n",
    "    train_losses, val_losses = [], []\n",
    "\n",
    "    for epoch in range(num_epochs):\n",
    "        # Training phase\n",
    "        model.train()\n",
    "        epoch_train_loss = 0\n",
    "        for X_batch, y_batch in train_loader:\n",
    "            optimizer.zero_grad()  # Reset gradients\n",
    "            outputs = model(X_batch)  # Forward pass\n",
    "            loss = criterion(outputs, y_batch)  # Compute loss\n",
    "            loss.backward()  # Backpropagation\n",
    "            optimizer.step()  # Update weights\n",
    "            epoch_train_loss += loss.item()\n",
    "\n",
    "        # Validation phase\n",
    "        model.eval()\n",
    "        epoch_val_loss = 0\n",
    "        with torch.no_grad():\n",
    "            for X_batch, y_batch in test_loader:\n",
    "                outputs = model(X_batch)\n",
    "                loss = criterion(outputs, y_batch)\n",
    "                epoch_val_loss += loss.item()\n",
    "\n",
    "        # Calculate average losses\n",
    "        train_loss = epoch_train_loss / len(train_loader)\n",
    "        val_loss = epoch_val_loss / len(test_loader)\n",
    "        train_losses.append(train_loss)\n",
    "        val_losses.append(val_loss)\n",
    "\n",
    "        # Update learning rate\n",
    "        scheduler.step(val_loss)\n",
    "\n",
    "        print(f'Epoch {epoch+1}/{num_epochs} | Train Loss: {train_loss:.4f} | Val Loss: {val_loss:.4f}')\n",
    "\n",
    "    return train_losses, val_losses\n"
   ],
   "id": "1e9fb176a0a77840",
   "outputs": [],
   "execution_count": 38
  },
  {
   "metadata": {
    "ExecuteTime": {
     "end_time": "2025-04-18T15:24:46.245402Z",
     "start_time": "2025-04-18T15:20:52.878344Z"
    }
   },
   "cell_type": "code",
   "source": [
    "#Model Training\n",
    "\n",
    "input_size = X_train.shape[1]\n",
    "output_size = y_train.shape[1]\n",
    "model = MultiTargetRegressor(input_size, output_size)\n",
    "\n",
    "# Train model\n",
    "train_losses, val_losses = train_model(\n",
    "    model=model,\n",
    "    train_loader=train_loader,\n",
    "    test_loader=test_loader,\n",
    "    num_epochs=30\n",
    ")\n",
    "\n",
    "#"
   ],
   "id": "f7ddddfc66b070aa",
   "outputs": [
    {
     "name": "stderr",
     "output_type": "stream",
     "text": [
      "/home/sparashar/Installed/miniconda3/envs/calisma/lib/python3.11/site-packages/torch/optim/lr_scheduler.py:62: UserWarning: The verbose parameter is deprecated. Please use get_last_lr() to access the learning rate.\n",
      "  warnings.warn(\n"
     ]
    },
    {
     "name": "stdout",
     "output_type": "stream",
     "text": [
      "Epoch 1/30 | Train Loss: 0.6889 | Val Loss: 0.5866\n",
      "Epoch 2/30 | Train Loss: 0.6039 | Val Loss: 0.5742\n",
      "Epoch 3/30 | Train Loss: 0.5912 | Val Loss: 0.5645\n",
      "Epoch 4/30 | Train Loss: 0.5840 | Val Loss: 0.5671\n",
      "Epoch 5/30 | Train Loss: 0.5797 | Val Loss: 0.5652\n",
      "Epoch 6/30 | Train Loss: 0.5768 | Val Loss: 0.5580\n",
      "Epoch 7/30 | Train Loss: 0.5745 | Val Loss: 0.5572\n",
      "Epoch 8/30 | Train Loss: 0.5726 | Val Loss: 0.5547\n",
      "Epoch 9/30 | Train Loss: 0.5713 | Val Loss: 0.5517\n",
      "Epoch 10/30 | Train Loss: 0.5702 | Val Loss: 0.5506\n",
      "Epoch 11/30 | Train Loss: 0.5692 | Val Loss: 0.5480\n",
      "Epoch 12/30 | Train Loss: 0.5680 | Val Loss: 0.5474\n",
      "Epoch 13/30 | Train Loss: 0.5674 | Val Loss: 0.5504\n",
      "Epoch 14/30 | Train Loss: 0.5666 | Val Loss: 0.5481\n",
      "Epoch 15/30 | Train Loss: 0.5662 | Val Loss: 0.5455\n",
      "Epoch 16/30 | Train Loss: 0.5654 | Val Loss: 0.5462\n",
      "Epoch 17/30 | Train Loss: 0.5649 | Val Loss: 0.5451\n",
      "Epoch 18/30 | Train Loss: 0.5643 | Val Loss: 0.5498\n",
      "Epoch 19/30 | Train Loss: 0.5638 | Val Loss: 0.5452\n",
      "Epoch 20/30 | Train Loss: 0.5636 | Val Loss: 0.5502\n",
      "Epoch 21/30 | Train Loss: 0.5630 | Val Loss: 0.5409\n",
      "Epoch 22/30 | Train Loss: 0.5622 | Val Loss: 0.5444\n",
      "Epoch 23/30 | Train Loss: 0.5616 | Val Loss: 0.5450\n",
      "Epoch 24/30 | Train Loss: 0.5610 | Val Loss: 0.5426\n",
      "Epoch 25/30 | Train Loss: 0.5603 | Val Loss: 0.5478\n",
      "Epoch 26/30 | Train Loss: 0.5601 | Val Loss: 0.5556\n",
      "Epoch 27/30 | Train Loss: 0.5595 | Val Loss: 0.5438\n",
      "Epoch 28/30 | Train Loss: 0.5549 | Val Loss: 0.5416\n",
      "Epoch 29/30 | Train Loss: 0.5542 | Val Loss: 0.5397\n",
      "Epoch 30/30 | Train Loss: 0.5540 | Val Loss: 0.5410\n"
     ]
    }
   ],
   "execution_count": 62
  },
  {
   "metadata": {
    "ExecuteTime": {
     "end_time": "2025-04-18T10:31:37.451190Z",
     "start_time": "2025-04-18T10:26:47.215223Z"
    }
   },
   "cell_type": "code",
   "source": [
    "import torch\n",
    "import torch.optim as optim\n",
    "\n",
    "# Define your hyperparameter grid\n",
    "param_grid = {\n",
    "    'lr': [0.01, 0.001],\n",
    "    'batch_size': [32, 64],\n",
    "    'hidden1': [128, 256]\n",
    "}\n",
    "\n",
    "from itertools import product\n",
    "\n",
    "best_val_loss = float('inf')\n",
    "best_params = None\n",
    "\n",
    "for lr, batch_size, hidden1 in product(param_grid['lr'], param_grid['batch_size'], param_grid['hidden1']):\n",
    "    # Prepare data loaders with batch_size\n",
    "    train_loader = DataLoader(train_dataset, batch_size=batch_size, shuffle=True)\n",
    "    test_loader = DataLoader(test_dataset, batch_size=batch_size)\n",
    "\n",
    "    # Define model with current hidden layer size\n",
    "    model = MultiTargetRegressor(input_size, output_size)\n",
    "    # Optionally, modify your model to accept hidden1 as a parameter\n",
    "\n",
    "    optimizer = optim.Adam(model.parameters(), lr=lr)\n",
    "    criterion = nn.MSELoss()\n",
    "\n",
    "    # Train for a few epochs (e.g., 5 for speed)\n",
    "    for epoch in range(5):\n",
    "        model.train()\n",
    "        for X_batch, y_batch in train_loader:\n",
    "            optimizer.zero_grad()\n",
    "            outputs = model(X_batch)\n",
    "            loss = criterion(outputs, y_batch)\n",
    "            loss.backward()\n",
    "            optimizer.step()\n",
    "\n",
    "    # Evaluate on validation set\n",
    "    model.eval()\n",
    "    val_loss = 0\n",
    "    with torch.no_grad():\n",
    "        for X_batch, y_batch in test_loader:\n",
    "            outputs = model(X_batch)\n",
    "            loss = criterion(outputs, y_batch)\n",
    "            val_loss += loss.item()\n",
    "    val_loss /= len(test_loader)\n",
    "\n",
    "    # Save best\n",
    "    if val_loss < best_val_loss:\n",
    "        best_val_loss = val_loss\n",
    "        best_params = {'lr': lr, 'batch_size': batch_size, 'hidden1': hidden1}\n",
    "\n",
    "print(\"Best params:\", best_params)\n",
    "print(\"Best validation loss:\", best_val_loss)\n"
   ],
   "id": "aab9916eaa3b2042",
   "outputs": [
    {
     "name": "stdout",
     "output_type": "stream",
     "text": [
      "Best params: {'lr': 0.001, 'batch_size': 32, 'hidden1': 128}\n",
      "Best validation loss: 0.3227386912416187\n"
     ]
    }
   ],
   "execution_count": 31
  },
  {
   "metadata": {
    "ExecuteTime": {
     "end_time": "2025-04-18T11:04:32.182570Z",
     "start_time": "2025-04-18T10:32:07.105094Z"
    }
   },
   "cell_type": "code",
   "source": [
    "import random\n",
    "from torch.utils.data import DataLoader\n",
    "import torch.optim as optim\n",
    "import numpy as np\n",
    "\n",
    "# Define the hyperparameter space\n",
    "param_space = {\n",
    "    'lr': [1e-3, 5e-4, 1e-4, 5e-5],\n",
    "    'batch_size': [16, 32, 64, 128],\n",
    "    'num_epochs': [10, 20, 30],\n",
    "    # Add more hyperparameters as needed\n",
    "}\n",
    "\n",
    "n_trials = 10  # Number of random samples\n",
    "\n",
    "best_val_loss = float('inf')\n",
    "best_params = None\n",
    "\n",
    "for trial in range(n_trials):\n",
    "    # Randomly sample hyperparameters\n",
    "    lr = random.choice(param_space['lr'])\n",
    "    batch_size = random.choice(param_space['batch_size'])\n",
    "    num_epochs = random.choice(param_space['num_epochs'])\n",
    "\n",
    "    # Create new dataloaders for this batch size\n",
    "    train_loader = DataLoader(train_dataset, batch_size=batch_size, shuffle=True)\n",
    "    test_loader = DataLoader(test_dataset, batch_size=batch_size)\n",
    "\n",
    "    # Initialize model\n",
    "    model = MultiTargetRegressor(input_size, output_size)\n",
    "\n",
    "    # Set optimizer with sampled learning rate\n",
    "    optimizer = optim.Adam(model.parameters(), lr=lr)\n",
    "\n",
    "    # Train model (use your train_model function)\n",
    "    train_losses, val_losses = train_model(\n",
    "        model=model,\n",
    "        train_loader=train_loader,\n",
    "        test_loader=test_loader,\n",
    "        num_epochs=num_epochs\n",
    "    )\n",
    "\n",
    "    # Use the last validation loss as the metric\n",
    "    final_val_loss = val_losses[-1]\n",
    "\n",
    "    print(f\"Trial {trial+1}: lr={lr}, batch_size={batch_size}, num_epochs={num_epochs}, val_loss={final_val_loss:.4f}\")\n",
    "\n",
    "    # Track the best hyperparameters\n",
    "    if final_val_loss < best_val_loss:\n",
    "        best_val_loss = final_val_loss\n",
    "        best_params = {\n",
    "            'lr': lr,\n",
    "            'batch_size': batch_size,\n",
    "            'num_epochs': num_epochs\n",
    "        }\n",
    "\n",
    "print(\"Best hyperparameters:\", best_params)\n",
    "print(\"Best validation loss:\", best_val_loss)\n"
   ],
   "id": "4686c18c0136136a",
   "outputs": [
    {
     "name": "stderr",
     "output_type": "stream",
     "text": [
      "/home/sparashar/Installed/miniconda3/envs/calisma/lib/python3.11/site-packages/torch/optim/lr_scheduler.py:62: UserWarning: The verbose parameter is deprecated. Please use get_last_lr() to access the learning rate.\n",
      "  warnings.warn(\n"
     ]
    },
    {
     "name": "stdout",
     "output_type": "stream",
     "text": [
      "Epoch 1/30 | Train Loss: 0.3935 | Val Loss: 0.3502\n",
      "Epoch 2/30 | Train Loss: 0.3534 | Val Loss: 0.3271\n",
      "Epoch 3/30 | Train Loss: 0.3437 | Val Loss: 0.3257\n",
      "Epoch 4/30 | Train Loss: 0.3372 | Val Loss: 0.3281\n",
      "Epoch 5/30 | Train Loss: 0.3329 | Val Loss: 0.3223\n",
      "Epoch 6/30 | Train Loss: 0.3290 | Val Loss: 0.3257\n",
      "Epoch 7/30 | Train Loss: 0.3258 | Val Loss: 0.3290\n",
      "Epoch 8/30 | Train Loss: 0.3232 | Val Loss: 0.3324\n",
      "Epoch 9/30 | Train Loss: 0.3211 | Val Loss: 0.3279\n",
      "Epoch 10/30 | Train Loss: 0.3188 | Val Loss: 0.3263\n",
      "Epoch 11/30 | Train Loss: 0.3168 | Val Loss: 0.3356\n",
      "Epoch 12/30 | Train Loss: 0.3044 | Val Loss: 0.3258\n",
      "Epoch 13/30 | Train Loss: 0.3014 | Val Loss: 0.3263\n",
      "Epoch 14/30 | Train Loss: 0.3003 | Val Loss: 0.3260\n",
      "Epoch 15/30 | Train Loss: 0.2995 | Val Loss: 0.3262\n",
      "Epoch 16/30 | Train Loss: 0.2989 | Val Loss: 0.3284\n",
      "Epoch 17/30 | Train Loss: 0.2984 | Val Loss: 0.3280\n",
      "Epoch 18/30 | Train Loss: 0.2964 | Val Loss: 0.3278\n",
      "Epoch 19/30 | Train Loss: 0.2962 | Val Loss: 0.3276\n",
      "Epoch 20/30 | Train Loss: 0.2960 | Val Loss: 0.3278\n",
      "Epoch 21/30 | Train Loss: 0.2960 | Val Loss: 0.3284\n",
      "Epoch 22/30 | Train Loss: 0.2959 | Val Loss: 0.3282\n",
      "Epoch 23/30 | Train Loss: 0.2958 | Val Loss: 0.3282\n",
      "Epoch 24/30 | Train Loss: 0.2956 | Val Loss: 0.3282\n",
      "Epoch 25/30 | Train Loss: 0.2956 | Val Loss: 0.3283\n",
      "Epoch 26/30 | Train Loss: 0.2956 | Val Loss: 0.3282\n",
      "Epoch 27/30 | Train Loss: 0.2956 | Val Loss: 0.3283\n",
      "Epoch 28/30 | Train Loss: 0.2956 | Val Loss: 0.3282\n",
      "Epoch 29/30 | Train Loss: 0.2956 | Val Loss: 0.3282\n",
      "Epoch 30/30 | Train Loss: 0.2955 | Val Loss: 0.3282\n",
      "Trial 1: lr=0.0005, batch_size=32, num_epochs=30, val_loss=0.3282\n",
      "Epoch 1/20 | Train Loss: 0.3886 | Val Loss: 0.3365\n",
      "Epoch 2/20 | Train Loss: 0.3526 | Val Loss: 0.3320\n",
      "Epoch 3/20 | Train Loss: 0.3427 | Val Loss: 0.3275\n",
      "Epoch 4/20 | Train Loss: 0.3365 | Val Loss: 0.3229\n",
      "Epoch 5/20 | Train Loss: 0.3321 | Val Loss: 0.3251\n",
      "Epoch 6/20 | Train Loss: 0.3287 | Val Loss: 0.3216\n",
      "Epoch 7/20 | Train Loss: 0.3256 | Val Loss: 0.3240\n",
      "Epoch 8/20 | Train Loss: 0.3230 | Val Loss: 0.3235\n",
      "Epoch 9/20 | Train Loss: 0.3207 | Val Loss: 0.3322\n",
      "Epoch 10/20 | Train Loss: 0.3185 | Val Loss: 0.3260\n",
      "Epoch 11/20 | Train Loss: 0.3169 | Val Loss: 0.3293\n",
      "Epoch 12/20 | Train Loss: 0.3151 | Val Loss: 0.3308\n",
      "Epoch 13/20 | Train Loss: 0.3023 | Val Loss: 0.3239\n",
      "Epoch 14/20 | Train Loss: 0.2992 | Val Loss: 0.3247\n",
      "Epoch 15/20 | Train Loss: 0.2981 | Val Loss: 0.3275\n",
      "Epoch 16/20 | Train Loss: 0.2973 | Val Loss: 0.3269\n",
      "Epoch 17/20 | Train Loss: 0.2967 | Val Loss: 0.3272\n",
      "Epoch 18/20 | Train Loss: 0.2961 | Val Loss: 0.3272\n",
      "Epoch 19/20 | Train Loss: 0.2940 | Val Loss: 0.3280\n",
      "Epoch 20/20 | Train Loss: 0.2938 | Val Loss: 0.3278\n",
      "Trial 2: lr=0.0005, batch_size=32, num_epochs=20, val_loss=0.3278\n",
      "Epoch 1/20 | Train Loss: 0.4073 | Val Loss: 0.3395\n",
      "Epoch 2/20 | Train Loss: 0.3589 | Val Loss: 0.3312\n",
      "Epoch 3/20 | Train Loss: 0.3480 | Val Loss: 0.3332\n",
      "Epoch 4/20 | Train Loss: 0.3417 | Val Loss: 0.3281\n",
      "Epoch 5/20 | Train Loss: 0.3363 | Val Loss: 0.3305\n",
      "Epoch 6/20 | Train Loss: 0.3324 | Val Loss: 0.3256\n",
      "Epoch 7/20 | Train Loss: 0.3290 | Val Loss: 0.3317\n",
      "Epoch 8/20 | Train Loss: 0.3261 | Val Loss: 0.3273\n",
      "Epoch 9/20 | Train Loss: 0.3239 | Val Loss: 0.3296\n",
      "Epoch 10/20 | Train Loss: 0.3213 | Val Loss: 0.3262\n",
      "Epoch 11/20 | Train Loss: 0.3194 | Val Loss: 0.3285\n",
      "Epoch 12/20 | Train Loss: 0.3175 | Val Loss: 0.3271\n",
      "Epoch 13/20 | Train Loss: 0.3061 | Val Loss: 0.3235\n",
      "Epoch 14/20 | Train Loss: 0.3038 | Val Loss: 0.3253\n",
      "Epoch 15/20 | Train Loss: 0.3029 | Val Loss: 0.3259\n",
      "Epoch 16/20 | Train Loss: 0.3023 | Val Loss: 0.3274\n",
      "Epoch 17/20 | Train Loss: 0.3018 | Val Loss: 0.3270\n",
      "Epoch 18/20 | Train Loss: 0.3013 | Val Loss: 0.3284\n",
      "Epoch 19/20 | Train Loss: 0.3008 | Val Loss: 0.3276\n",
      "Epoch 20/20 | Train Loss: 0.2992 | Val Loss: 0.3277\n",
      "Trial 3: lr=0.0005, batch_size=64, num_epochs=20, val_loss=0.3277\n",
      "Epoch 1/30 | Train Loss: 0.3820 | Val Loss: 0.3366\n",
      "Epoch 2/30 | Train Loss: 0.3506 | Val Loss: 0.3307\n",
      "Epoch 3/30 | Train Loss: 0.3415 | Val Loss: 0.3247\n",
      "Epoch 4/30 | Train Loss: 0.3354 | Val Loss: 0.3290\n",
      "Epoch 5/30 | Train Loss: 0.3308 | Val Loss: 0.3240\n",
      "Epoch 6/30 | Train Loss: 0.3276 | Val Loss: 0.3271\n",
      "Epoch 7/30 | Train Loss: 0.3246 | Val Loss: 0.3261\n",
      "Epoch 8/30 | Train Loss: 0.3219 | Val Loss: 0.3302\n",
      "Epoch 9/30 | Train Loss: 0.3200 | Val Loss: 0.3245\n",
      "Epoch 10/30 | Train Loss: 0.3179 | Val Loss: 0.3261\n",
      "Epoch 11/30 | Train Loss: 0.3157 | Val Loss: 0.3292\n",
      "Epoch 12/30 | Train Loss: 0.3010 | Val Loss: 0.3249\n",
      "Epoch 13/30 | Train Loss: 0.2974 | Val Loss: 0.3262\n",
      "Epoch 14/30 | Train Loss: 0.2960 | Val Loss: 0.3264\n",
      "Epoch 15/30 | Train Loss: 0.2951 | Val Loss: 0.3269\n",
      "Epoch 16/30 | Train Loss: 0.2944 | Val Loss: 0.3272\n",
      "Epoch 17/30 | Train Loss: 0.2938 | Val Loss: 0.3291\n",
      "Epoch 18/30 | Train Loss: 0.2913 | Val Loss: 0.3286\n",
      "Epoch 19/30 | Train Loss: 0.2911 | Val Loss: 0.3288\n",
      "Epoch 20/30 | Train Loss: 0.2909 | Val Loss: 0.3287\n",
      "Epoch 21/30 | Train Loss: 0.2908 | Val Loss: 0.3292\n",
      "Epoch 22/30 | Train Loss: 0.2908 | Val Loss: 0.3290\n",
      "Epoch 23/30 | Train Loss: 0.2907 | Val Loss: 0.3297\n",
      "Epoch 24/30 | Train Loss: 0.2904 | Val Loss: 0.3294\n",
      "Epoch 25/30 | Train Loss: 0.2904 | Val Loss: 0.3293\n",
      "Epoch 26/30 | Train Loss: 0.2904 | Val Loss: 0.3293\n",
      "Epoch 27/30 | Train Loss: 0.2903 | Val Loss: 0.3293\n",
      "Epoch 28/30 | Train Loss: 0.2903 | Val Loss: 0.3293\n",
      "Epoch 29/30 | Train Loss: 0.2903 | Val Loss: 0.3293\n",
      "Epoch 30/30 | Train Loss: 0.2903 | Val Loss: 0.3293\n",
      "Trial 4: lr=5e-05, batch_size=16, num_epochs=30, val_loss=0.3293\n",
      "Epoch 1/30 | Train Loss: 0.3825 | Val Loss: 0.3311\n",
      "Epoch 2/30 | Train Loss: 0.3505 | Val Loss: 0.3321\n",
      "Epoch 3/30 | Train Loss: 0.3419 | Val Loss: 0.3259\n",
      "Epoch 4/30 | Train Loss: 0.3360 | Val Loss: 0.3237\n",
      "Epoch 5/30 | Train Loss: 0.3318 | Val Loss: 0.3215\n",
      "Epoch 6/30 | Train Loss: 0.3286 | Val Loss: 0.3317\n",
      "Epoch 7/30 | Train Loss: 0.3259 | Val Loss: 0.3234\n",
      "Epoch 8/30 | Train Loss: 0.3235 | Val Loss: 0.3274\n",
      "Epoch 9/30 | Train Loss: 0.3209 | Val Loss: 0.3262\n",
      "Epoch 10/30 | Train Loss: 0.3191 | Val Loss: 0.3279\n",
      "Epoch 11/30 | Train Loss: 0.3171 | Val Loss: 0.3296\n",
      "Epoch 12/30 | Train Loss: 0.3027 | Val Loss: 0.3239\n",
      "Epoch 13/30 | Train Loss: 0.2992 | Val Loss: 0.3262\n",
      "Epoch 14/30 | Train Loss: 0.2980 | Val Loss: 0.3258\n",
      "Epoch 15/30 | Train Loss: 0.2971 | Val Loss: 0.3256\n",
      "Epoch 16/30 | Train Loss: 0.2965 | Val Loss: 0.3268\n",
      "Epoch 17/30 | Train Loss: 0.2959 | Val Loss: 0.3284\n",
      "Epoch 18/30 | Train Loss: 0.2935 | Val Loss: 0.3280\n",
      "Epoch 19/30 | Train Loss: 0.2932 | Val Loss: 0.3274\n",
      "Epoch 20/30 | Train Loss: 0.2931 | Val Loss: 0.3280\n",
      "Epoch 21/30 | Train Loss: 0.2930 | Val Loss: 0.3280\n",
      "Epoch 22/30 | Train Loss: 0.2929 | Val Loss: 0.3281\n",
      "Epoch 23/30 | Train Loss: 0.2929 | Val Loss: 0.3280\n",
      "Epoch 24/30 | Train Loss: 0.2926 | Val Loss: 0.3282\n",
      "Epoch 25/30 | Train Loss: 0.2925 | Val Loss: 0.3283\n",
      "Epoch 26/30 | Train Loss: 0.2925 | Val Loss: 0.3283\n",
      "Epoch 27/30 | Train Loss: 0.2925 | Val Loss: 0.3283\n",
      "Epoch 28/30 | Train Loss: 0.2925 | Val Loss: 0.3283\n",
      "Epoch 29/30 | Train Loss: 0.2925 | Val Loss: 0.3283\n",
      "Epoch 30/30 | Train Loss: 0.2925 | Val Loss: 0.3283\n",
      "Trial 5: lr=0.0005, batch_size=16, num_epochs=30, val_loss=0.3283\n",
      "Epoch 1/10 | Train Loss: 0.3947 | Val Loss: 0.3391\n",
      "Epoch 2/10 | Train Loss: 0.3568 | Val Loss: 0.3295\n",
      "Epoch 3/10 | Train Loss: 0.3464 | Val Loss: 0.3268\n",
      "Epoch 4/10 | Train Loss: 0.3398 | Val Loss: 0.3279\n",
      "Epoch 5/10 | Train Loss: 0.3351 | Val Loss: 0.3230\n",
      "Epoch 6/10 | Train Loss: 0.3308 | Val Loss: 0.3283\n",
      "Epoch 7/10 | Train Loss: 0.3277 | Val Loss: 0.3223\n",
      "Epoch 8/10 | Train Loss: 0.3245 | Val Loss: 0.3238\n",
      "Epoch 9/10 | Train Loss: 0.3224 | Val Loss: 0.3273\n",
      "Epoch 10/10 | Train Loss: 0.3198 | Val Loss: 0.3261\n",
      "Trial 6: lr=0.0005, batch_size=64, num_epochs=10, val_loss=0.3261\n",
      "Epoch 1/20 | Train Loss: 0.3869 | Val Loss: 0.3354\n",
      "Epoch 2/20 | Train Loss: 0.3521 | Val Loss: 0.3299\n",
      "Epoch 3/20 | Train Loss: 0.3420 | Val Loss: 0.3241\n",
      "Epoch 4/20 | Train Loss: 0.3361 | Val Loss: 0.3237\n",
      "Epoch 5/20 | Train Loss: 0.3320 | Val Loss: 0.3236\n",
      "Epoch 6/20 | Train Loss: 0.3282 | Val Loss: 0.3259\n",
      "Epoch 7/20 | Train Loss: 0.3254 | Val Loss: 0.3252\n",
      "Epoch 8/20 | Train Loss: 0.3229 | Val Loss: 0.3274\n",
      "Epoch 9/20 | Train Loss: 0.3203 | Val Loss: 0.3264\n",
      "Epoch 10/20 | Train Loss: 0.3186 | Val Loss: 0.3275\n",
      "Epoch 11/20 | Train Loss: 0.3167 | Val Loss: 0.3250\n",
      "Epoch 12/20 | Train Loss: 0.3043 | Val Loss: 0.3240\n",
      "Epoch 13/20 | Train Loss: 0.3012 | Val Loss: 0.3252\n",
      "Epoch 14/20 | Train Loss: 0.3001 | Val Loss: 0.3246\n",
      "Epoch 15/20 | Train Loss: 0.2993 | Val Loss: 0.3260\n",
      "Epoch 16/20 | Train Loss: 0.2987 | Val Loss: 0.3268\n",
      "Epoch 17/20 | Train Loss: 0.2981 | Val Loss: 0.3296\n",
      "Epoch 18/20 | Train Loss: 0.2962 | Val Loss: 0.3274\n",
      "Epoch 19/20 | Train Loss: 0.2959 | Val Loss: 0.3275\n",
      "Epoch 20/20 | Train Loss: 0.2958 | Val Loss: 0.3278\n",
      "Trial 7: lr=5e-05, batch_size=32, num_epochs=20, val_loss=0.3278\n",
      "Epoch 1/20 | Train Loss: 0.4020 | Val Loss: 0.3442\n",
      "Epoch 2/20 | Train Loss: 0.3579 | Val Loss: 0.3340\n",
      "Epoch 3/20 | Train Loss: 0.3476 | Val Loss: 0.3310\n",
      "Epoch 4/20 | Train Loss: 0.3405 | Val Loss: 0.3258\n",
      "Epoch 5/20 | Train Loss: 0.3356 | Val Loss: 0.3243\n",
      "Epoch 6/20 | Train Loss: 0.3314 | Val Loss: 0.3260\n",
      "Epoch 7/20 | Train Loss: 0.3282 | Val Loss: 0.3291\n",
      "Epoch 8/20 | Train Loss: 0.3255 | Val Loss: 0.3235\n",
      "Epoch 9/20 | Train Loss: 0.3232 | Val Loss: 0.3214\n",
      "Epoch 10/20 | Train Loss: 0.3207 | Val Loss: 0.3265\n",
      "Epoch 11/20 | Train Loss: 0.3186 | Val Loss: 0.3281\n",
      "Epoch 12/20 | Train Loss: 0.3171 | Val Loss: 0.3261\n",
      "Epoch 13/20 | Train Loss: 0.3152 | Val Loss: 0.3300\n",
      "Epoch 14/20 | Train Loss: 0.3136 | Val Loss: 0.3248\n",
      "Epoch 15/20 | Train Loss: 0.3124 | Val Loss: 0.3300\n",
      "Epoch 16/20 | Train Loss: 0.3010 | Val Loss: 0.3248\n",
      "Epoch 17/20 | Train Loss: 0.2988 | Val Loss: 0.3253\n",
      "Epoch 18/20 | Train Loss: 0.2979 | Val Loss: 0.3269\n",
      "Epoch 19/20 | Train Loss: 0.2972 | Val Loss: 0.3279\n",
      "Epoch 20/20 | Train Loss: 0.2967 | Val Loss: 0.3265\n",
      "Trial 8: lr=0.0001, batch_size=64, num_epochs=20, val_loss=0.3265\n",
      "Epoch 1/30 | Train Loss: 0.3985 | Val Loss: 0.3363\n",
      "Epoch 2/30 | Train Loss: 0.3561 | Val Loss: 0.3311\n",
      "Epoch 3/30 | Train Loss: 0.3451 | Val Loss: 0.3258\n",
      "Epoch 4/30 | Train Loss: 0.3390 | Val Loss: 0.3272\n",
      "Epoch 5/30 | Train Loss: 0.3346 | Val Loss: 0.3265\n",
      "Epoch 6/30 | Train Loss: 0.3308 | Val Loss: 0.3223\n",
      "Epoch 7/30 | Train Loss: 0.3277 | Val Loss: 0.3256\n",
      "Epoch 8/30 | Train Loss: 0.3249 | Val Loss: 0.3272\n",
      "Epoch 9/30 | Train Loss: 0.3222 | Val Loss: 0.3234\n",
      "Epoch 10/30 | Train Loss: 0.3200 | Val Loss: 0.3292\n",
      "Epoch 11/30 | Train Loss: 0.3180 | Val Loss: 0.3278\n",
      "Epoch 12/30 | Train Loss: 0.3162 | Val Loss: 0.3293\n",
      "Epoch 13/30 | Train Loss: 0.3056 | Val Loss: 0.3234\n",
      "Epoch 14/30 | Train Loss: 0.3029 | Val Loss: 0.3239\n",
      "Epoch 15/30 | Train Loss: 0.3020 | Val Loss: 0.3255\n",
      "Epoch 16/30 | Train Loss: 0.3013 | Val Loss: 0.3247\n",
      "Epoch 17/30 | Train Loss: 0.3007 | Val Loss: 0.3258\n",
      "Epoch 18/30 | Train Loss: 0.3005 | Val Loss: 0.3266\n",
      "Epoch 19/30 | Train Loss: 0.2986 | Val Loss: 0.3260\n",
      "Epoch 20/30 | Train Loss: 0.2984 | Val Loss: 0.3260\n",
      "Epoch 21/30 | Train Loss: 0.2984 | Val Loss: 0.3261\n",
      "Epoch 22/30 | Train Loss: 0.2983 | Val Loss: 0.3261\n",
      "Epoch 23/30 | Train Loss: 0.2983 | Val Loss: 0.3266\n",
      "Epoch 24/30 | Train Loss: 0.2982 | Val Loss: 0.3263\n",
      "Epoch 25/30 | Train Loss: 0.2980 | Val Loss: 0.3263\n",
      "Epoch 26/30 | Train Loss: 0.2980 | Val Loss: 0.3263\n",
      "Epoch 27/30 | Train Loss: 0.2980 | Val Loss: 0.3263\n",
      "Epoch 28/30 | Train Loss: 0.2980 | Val Loss: 0.3263\n",
      "Epoch 29/30 | Train Loss: 0.2979 | Val Loss: 0.3263\n",
      "Epoch 30/30 | Train Loss: 0.2980 | Val Loss: 0.3263\n",
      "Trial 9: lr=5e-05, batch_size=64, num_epochs=30, val_loss=0.3263\n",
      "Epoch 1/10 | Train Loss: 0.4002 | Val Loss: 0.3419\n",
      "Epoch 2/10 | Train Loss: 0.3583 | Val Loss: 0.3316\n",
      "Epoch 3/10 | Train Loss: 0.3470 | Val Loss: 0.3273\n",
      "Epoch 4/10 | Train Loss: 0.3408 | Val Loss: 0.3249\n",
      "Epoch 5/10 | Train Loss: 0.3359 | Val Loss: 0.3342\n",
      "Epoch 6/10 | Train Loss: 0.3322 | Val Loss: 0.3269\n",
      "Epoch 7/10 | Train Loss: 0.3290 | Val Loss: 0.3242\n",
      "Epoch 8/10 | Train Loss: 0.3262 | Val Loss: 0.3260\n",
      "Epoch 9/10 | Train Loss: 0.3234 | Val Loss: 0.3331\n",
      "Epoch 10/10 | Train Loss: 0.3215 | Val Loss: 0.3248\n",
      "Trial 10: lr=5e-05, batch_size=64, num_epochs=10, val_loss=0.3248\n",
      "Best hyperparameters: {'lr': 5e-05, 'batch_size': 64, 'num_epochs': 10}\n",
      "Best validation loss: 0.3247509590034411\n"
     ]
    }
   ],
   "execution_count": 32
  },
  {
   "metadata": {},
   "cell_type": "markdown",
   "source": [
    "Best Hyperparameters when predictand = both:\n",
    "Best hyperparameters: {'lr': 5e-05, 'batch_size': 64, 'num_epochs': 10}\n",
    "Best validation loss: 0.3247509590034411\n",
    "\n"
   ],
   "id": "786ecf52debf133d"
  },
  {
   "metadata": {},
   "cell_type": "markdown",
   "source": "Model Evaluation:",
   "id": "2de8f68ac000e0a5"
  },
  {
   "metadata": {
    "ExecuteTime": {
     "end_time": "2025-04-18T14:56:37.658924Z",
     "start_time": "2025-04-18T14:56:37.652039Z"
    }
   },
   "cell_type": "code",
   "source": [
    "from sklearn.metrics import mean_squared_error, mean_absolute_error, r2_score\n",
    "import numpy as np\n",
    "\n",
    "def evaluate_model(model, X_test_tensor, y_test):\n",
    "    \"\"\"Generate predictions and calculate metrics\"\"\"\n",
    "    model.eval()\n",
    "    with torch.no_grad():\n",
    "        y_pred_tensor = model(X_test_tensor)\n",
    "\n",
    "    # Convert to numpy for sklearn metrics\n",
    "    y_pred = y_pred_tensor.numpy()\n",
    "\n",
    "    # Calculate evaluation metrics\n",
    "    mse = mean_squared_error(y_test, y_pred)\n",
    "    rmse = np.sqrt(mse)  # Method #2 from search results\n",
    "    mae = mean_absolute_error(y_test, y_pred)\n",
    "    r2 = r2_score(y_test, y_pred)\n",
    "\n",
    "    # Display metrics\n",
    "    print(\"\\nFinal Model Evaluation:\")\n",
    "    print(f\"MSE: {mse:.4f}\")\n",
    "    print(f\"RMSE: {rmse:.4f}\")  # Added from search result [1][2]\n",
    "    print(f\"MAE: {mae:.4f}\")\n",
    "    print(f\"R²: {r2:.4f}\")\n",
    "\n",
    "    return y_pred"
   ],
   "id": "8fb2ae85b752b57c",
   "outputs": [],
   "execution_count": 44
  },
  {
   "metadata": {},
   "cell_type": "markdown",
   "source": "Visualisation",
   "id": "d434549c427ddb89"
  },
  {
   "metadata": {
    "ExecuteTime": {
     "end_time": "2025-04-18T14:57:21.710872Z",
     "start_time": "2025-04-18T14:57:21.695764Z"
    }
   },
   "cell_type": "code",
   "source": [
    "def plot_loss_curves(train_losses, val_losses):\n",
    "    \"\"\"Plot training and validation loss curves\"\"\"\n",
    "    plt.figure(figsize=(10, 6))\n",
    "    plt.plot(train_losses, label='Training Loss')\n",
    "    plt.plot(val_losses, label='Validation Loss')\n",
    "    plt.title('Loss Curves')\n",
    "    plt.xlabel('Epoch')\n",
    "    plt.ylabel('MSE Loss')\n",
    "    plt.legend()\n",
    "    plt.grid(True)\n",
    "    plt.show()\n"
   ],
   "id": "80aff5cd849a7ca8",
   "outputs": [],
   "execution_count": 45
  },
  {
   "metadata": {},
   "cell_type": "markdown",
   "source": "Execution",
   "id": "1f6a550e4a0d52bc"
  },
  {
   "metadata": {
    "ExecuteTime": {
     "end_time": "2025-04-18T14:57:24.770025Z",
     "start_time": "2025-04-18T14:57:24.551030Z"
    }
   },
   "cell_type": "code",
   "source": [
    " #Visualize training progress\n",
    "plot_loss_curves(train_losses=train_losses, val_losses=val_losses)\n",
    "\n",
    "# Final evaluation\n",
    "evaluate_model(model=model, X_test_tensor=X_test_tensor, y_test=y_test)\n",
    "#y_pred = evaluate_model(model, X_test_tensor, y_test)"
   ],
   "id": "6211a66b46e6c7b3",
   "outputs": [
    {
     "data": {
      "text/plain": [
       "<Figure size 1000x600 with 1 Axes>"
      ],
      "image/png": "[encoded data removed]"
     },
     "metadata": {},
     "output_type": "display_data"
    },
    {
     "name": "stdout",
     "output_type": "stream",
     "text": [
      "\n",
      "Final Model Evaluation:\n",
      "MSE: 0.3250\n",
      "RMSE: 0.5701\n",
      "MAE: 0.3923\n",
      "R²: 0.4013\n"
     ]
    },
    {
     "data": {
      "text/plain": [
       "array([[ 0.7385144 ,  0.37993875],\n",
       "       [ 0.7562384 ,  1.0785763 ],\n",
       "       [ 0.6835478 ,  0.6038401 ],\n",
       "       ...,\n",
       "       [ 0.65580374,  0.627517  ],\n",
       "       [ 0.72915334,  0.21867003],\n",
       "       [ 0.34052426, -0.39038962]], dtype=float32)"
      ]
     },
     "execution_count": 46,
     "metadata": {},
     "output_type": "execute_result"
    }
   ],
   "execution_count": 46
  }
 ],
 "metadata": {
  "kernelspec": {
   "display_name": "Python 3",
   "language": "python",
   "name": "python3"
  },
  "language_info": {
   "codemirror_mode": {
    "name": "ipython",
    "version": 2
   },
   "file_extension": ".py",
   "mimetype": "text/x-python",
   "name": "python",
   "nbconvert_exporter": "python",
   "pygments_lexer": "ipython2",
   "version": "2.7.6"
  }
 },
 "nbformat": 4,
 "nbformat_minor": 5
}
